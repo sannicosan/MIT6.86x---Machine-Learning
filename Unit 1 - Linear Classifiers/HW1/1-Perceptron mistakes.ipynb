{
 "cells": [
  {
   "cell_type": "markdown",
   "metadata": {},
   "source": [
    "# Homework 1"
   ]
  },
  {
   "cell_type": "markdown",
   "metadata": {},
   "source": [
    "### Exercise 1: Perceptron Mistakes"
   ]
  },
  {
   "cell_type": "code",
   "execution_count": 1,
   "metadata": {},
   "outputs": [],
   "source": [
    "import numpy as np"
   ]
  },
  {
   "cell_type": "markdown",
   "metadata": {},
   "source": [
    "### a)"
   ]
  },
  {
   "cell_type": "code",
   "execution_count": 3,
   "metadata": {},
   "outputs": [],
   "source": [
    "# Training points \n",
    "x_1 = [-1,-1]\n",
    "x_2 = [1,0]\n",
    "x_3 = [-1,1.5]\n",
    "\n",
    "# Labels\n",
    "y_1 = 1\n",
    "y_2 = -1\n",
    "y_3 = 1"
   ]
  },
  {
   "cell_type": "code",
   "execution_count": 4,
   "metadata": {},
   "outputs": [],
   "source": [
    "# Setting everything as a vector\n",
    "x = np.array([x_1,x_2,x_3]).T\n",
    "\n",
    "y = np.array([[y_1],[y_2],[y_3]])"
   ]
  },
  {
   "cell_type": "code",
   "execution_count": 5,
   "metadata": {
    "scrolled": false
   },
   "outputs": [
    {
     "name": "stdout",
     "output_type": "stream",
     "text": [
      "[-1. -1.],[-2.   0.5],\n",
      ">> #Errors: 2 \n",
      "\n",
      ">> Theta vectors:\n",
      "[[-1.  -1. ]\n",
      " [-2.   0.5]]\n"
     ]
    }
   ],
   "source": [
    "## Starting with x_1:\n",
    "\n",
    "n = max(x.shape)\n",
    "n_errors = 0\n",
    "th = np.array([[0,0]])\n",
    "# th = x[:,0].reshape(1,2)\n",
    "th_vec = th\n",
    "i = 0\n",
    "n_errors_overall = 0\n",
    "\n",
    "while(1):\n",
    "\n",
    "    n_errors = 0\n",
    "    \n",
    "    for i in range(n):         \n",
    "        if y[i]*(np.dot(th,x[:,i])) <= 0:\n",
    "            th = th + y[i]*x[:,i]\n",
    "            print(th[0],end=\",\")\n",
    "            n_errors += 1\n",
    "            th_vec = np.append(th_vec,th,axis = 0)\n",
    "        n_errors_overall += n_errors\n",
    "        \n",
    "    if(n_errors == 0):\n",
    "        break\n",
    "    \n",
    "th_vec = th_vec[1:,:]\n",
    "    \n",
    "\n",
    "print('\\n>> #Errors: {} \\n'.format(len(th_vec)))       \n",
    "print(\">> Theta vectors:\")\n",
    "print(th_vec)"
   ]
  },
  {
   "cell_type": "code",
   "execution_count": 6,
   "metadata": {},
   "outputs": [
    {
     "name": "stdout",
     "output_type": "stream",
     "text": [
      "[[-1.  0.]],\n",
      ">> #Errors: 1 \n",
      "\n",
      ">> Theta vectors:\n",
      "[[-1.  0.]]\n"
     ]
    }
   ],
   "source": [
    "## Starting with x_2:\n",
    "\n",
    "n = max(x.shape)\n",
    "n_errors = 0\n",
    "th = np.array([[0,0]])\n",
    "# th = x[:,0].reshape(1,2)\n",
    "th_vec = th\n",
    "i = 0\n",
    "n_errors_overall = 0\n",
    "\n",
    "while(1):\n",
    "    \n",
    "    i = 1\n",
    "    n_errors = 0\n",
    "    \n",
    "    for i in range(n):   \n",
    "        i = 1\n",
    "        if y[i]*(np.dot(th,x[:,i])) <= 0:\n",
    "            th = th + y[i]*x[:,i]\n",
    "            print(th,end=\",\")\n",
    "            n_errors += 1\n",
    "            th_vec = np.append(th_vec,th,axis = 0)\n",
    "        n_errors_overall += n_errors\n",
    "        \n",
    "    if(n_errors == 0):\n",
    "        break\n",
    "    \n",
    "th_vec = th_vec[1:,:]\n",
    "    \n",
    "\n",
    "print('\\n>> #Errors: {} \\n'.format(len(th_vec)))       \n",
    "print(\">> Theta vectors:\")\n",
    "print(th_vec)"
   ]
  },
  {
   "cell_type": "markdown",
   "metadata": {},
   "source": [
    "### b) "
   ]
  },
  {
   "cell_type": "code",
   "execution_count": 7,
   "metadata": {},
   "outputs": [],
   "source": [
    "# Training points \n",
    "x_1 = [-1,-1]\n",
    "x_2 = [1,0]\n",
    "x_3 = [-1,10]\n",
    "\n",
    "# Labels\n",
    "y_1 = 1\n",
    "y_2 = -1\n",
    "y_3 = 1"
   ]
  },
  {
   "cell_type": "code",
   "execution_count": 8,
   "metadata": {},
   "outputs": [
    {
     "name": "stdout",
     "output_type": "stream",
     "text": [
      "[-1. -1.],[-2.   0.5],\n",
      ">> #Errors: 2 \n",
      "\n",
      ">> Theta vectors:\n",
      "[[-1.  -1. ]\n",
      " [-2.   0.5]]\n"
     ]
    }
   ],
   "source": [
    "## Starting with x_1:\n",
    "\n",
    "n = max(x.shape)\n",
    "n_errors = 0\n",
    "th = np.array([[0,0]])\n",
    "# th = x[:,0].reshape(1,2)\n",
    "th_vec = th\n",
    "i = 0\n",
    "n_errors_overall = 0\n",
    "\n",
    "while(1):\n",
    "\n",
    "    n_errors = 0\n",
    "    \n",
    "    for i in range(n):         \n",
    "        if y[i]*(np.dot(th,x[:,i])) <= 0:\n",
    "            th = th + y[i]*x[:,i]\n",
    "            print(th[0],end=\",\")\n",
    "            n_errors += 1\n",
    "            th_vec = np.append(th_vec,th,axis = 0)\n",
    "        n_errors_overall += n_errors\n",
    "        \n",
    "    if(n_errors == 0):\n",
    "        break\n",
    "    \n",
    "th_vec = th_vec[1:,:]\n",
    "    \n",
    "\n",
    "print('\\n>> #Errors: {} \\n'.format(len(th_vec)))       \n",
    "print(\">> Theta vectors:\")s\n",
    "print(th_vec)"
   ]
  },
  {
   "cell_type": "code",
   "execution_count": 12,
   "metadata": {},
   "outputs": [
    {
     "name": "stdout",
     "output_type": "stream",
     "text": [
      "[[-1.  0.]],\n",
      ">> #Errors: 1 \n",
      "\n",
      ">> Theta vectors:\n",
      "[[-1.  0.]]\n"
     ]
    }
   ],
   "source": [
    "# Starting with x_2:\n",
    "\n",
    "n = max(x.shape)\n",
    "n_errors = 0\n",
    "th = np.array([[0,0]])\n",
    "# th = x[:,0].reshape(1,2)\n",
    "th_vec = th\n",
    "i = 0\n",
    "n_errors_overall = 0\n",
    "\n",
    "while(1):\n",
    "    \n",
    "    i = 1\n",
    "    n_errors = 0\n",
    "    \n",
    "    for i in range(n):   \n",
    "        i = 1\n",
    "        if y[i]*(np.dot(th,x[:,i])) <= 0:\n",
    "            th = th + y[i]*x[:,i]\n",
    "            print(th,end=\",\")\n",
    "            n_errors += 1\n",
    "            th_vec = np.append(th_vec,th,axis = 0)\n",
    "        n_errors_overall += n_errors\n",
    "        \n",
    "    if(n_errors == 0):\n",
    "        break\n",
    "    \n",
    "th_vec = th_vec[1:,:]\n",
    "    \n",
    "\n",
    "print('\\n>> #Errors: {} \\n'.format(len(th_vec)))       \n",
    "print(\">> Theta vectors:\")\n",
    "print(th_vec)"
   ]
  },
  {
   "cell_type": "code",
   "execution_count": null,
   "metadata": {},
   "outputs": [],
   "source": []
  }
 ],
 "metadata": {
  "kernelspec": {
   "display_name": "Python 3",
   "language": "python",
   "name": "python3"
  },
  "language_info": {
   "codemirror_mode": {
    "name": "ipython",
    "version": 3
   },
   "file_extension": ".py",
   "mimetype": "text/x-python",
   "name": "python",
   "nbconvert_exporter": "python",
   "pygments_lexer": "ipython3",
   "version": "3.7.6"
  }
 },
 "nbformat": 4,
 "nbformat_minor": 4
}
