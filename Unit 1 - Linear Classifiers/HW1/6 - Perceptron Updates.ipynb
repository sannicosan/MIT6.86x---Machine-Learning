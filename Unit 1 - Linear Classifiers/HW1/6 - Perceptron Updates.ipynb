{
 "cells": [
  {
   "cell_type": "markdown",
   "metadata": {},
   "source": [
    "## Homework 1"
   ]
  },
  {
   "cell_type": "markdown",
   "metadata": {},
   "source": [
    "### Exercirse 6: Perceptron updates"
   ]
  },
  {
   "cell_type": "markdown",
   "metadata": {},
   "source": [
    "---\n",
    "#### a) Number of updates (d = 2)"
   ]
  },
  {
   "cell_type": "code",
   "execution_count": 1,
   "metadata": {},
   "outputs": [],
   "source": [
    "import numpy as np"
   ]
  },
  {
   "cell_type": "code",
   "execution_count": 2,
   "metadata": {},
   "outputs": [],
   "source": [
    "# Training points \n",
    "x_1 = [np.cos(np.pi),0]\n",
    "x_2 = [0,np.cos(2*np.pi)]\n",
    "\n",
    "\n",
    "# Labels\n",
    "y_1 = 1\n",
    "y_2 = 1\n",
    "\n",
    "\n",
    "# Setting everything as a vector\n",
    "x = np.array([x_1,x_2]).T\n",
    "\n",
    "y = np.array([[y_1],[y_2]])\n",
    "                                       \n",
    "                                       "
   ]
  },
  {
   "cell_type": "code",
   "execution_count": 3,
   "metadata": {},
   "outputs": [
    {
     "name": "stdout",
     "output_type": "stream",
     "text": [
      "\n",
      ">> # Updates: 2 \n",
      "\n",
      ">> Theta vectors optimal:\n",
      "[-1.  1.]\n"
     ]
    }
   ],
   "source": [
    "## Perceptron algorithm\n",
    "\n",
    "d = len(x)\n",
    "n = d\n",
    "th = np.array([0,0])\n",
    "n_updates = 0\n",
    "\n",
    "\n",
    "while(1):\n",
    "\n",
    "    n_errors = 0\n",
    "    \n",
    "    for i in range(n):         \n",
    "        if y[i]*(np.dot(th,x[:,i])) <= 0:\n",
    "            th = th + y[i]*x[:,i]\n",
    "            n_errors += 1\n",
    "            \n",
    "    n_updates += n_errors \n",
    "    \n",
    "    if(n_errors == 0):\n",
    "        break\n",
    "    \n",
    "\n",
    "print('\\n>> # Updates: {} \\n'.format(n_updates))    \n",
    "print(\">> Theta vectors optimal:\")\n",
    "print(th)"
   ]
  },
  {
   "cell_type": "markdown",
   "metadata": {},
   "source": [
    "---\n",
    "#### b) Number of updates - General \n",
    "##### For simplicity, we'll take d = 3"
   ]
  },
  {
   "cell_type": "code",
   "execution_count": 4,
   "metadata": {},
   "outputs": [],
   "source": [
    "# Training points \n",
    "x_1 = [np.cos(np.pi),0,0]\n",
    "x_2 = [0,np.cos(2*np.pi),0]\n",
    "x_3 = [0,0,np.cos(3*np.pi)]\n",
    "\n",
    "# Labels\n",
    "y_1 = 1\n",
    "y_2 = 1\n",
    "y_3 = -1\n",
    "\n",
    "\n",
    "# Setting everything as a vector\n",
    "x = np.array([x_1,x_2,x_3]).T\n",
    "\n",
    "y = np.array([[y_1],[y_2],[y_3]])\n",
    "                                       \n",
    "                                       "
   ]
  },
  {
   "cell_type": "code",
   "execution_count": 5,
   "metadata": {},
   "outputs": [
    {
     "name": "stdout",
     "output_type": "stream",
     "text": [
      "[-1.  0.  0.]\n",
      "[-1.  1.  0.]\n",
      "[-1.  1.  1.]\n",
      "\n",
      ">> # Updates: 3 \n",
      "\n",
      ">> Theta vectors optimal:\n",
      "[-1.  1.  1.]\n"
     ]
    }
   ],
   "source": [
    "## Perceptron algorithm\n",
    "\n",
    "d = len(x)\n",
    "n = d\n",
    "th = np.array([0,0,0])\n",
    "n_updates = 0\n",
    "\n",
    "while(1):\n",
    "\n",
    "    n_errors = 0\n",
    "    \n",
    "    for i in range(n):         \n",
    "        if y[i]*(np.dot(th,x[:,i])) <= 0:\n",
    "            th = th + y[i]*x[:,i]\n",
    "            n_errors += 1\n",
    "            print(th)\n",
    "            \n",
    "    n_updates += n_errors \n",
    "    \n",
    "    if(n_errors == 0):\n",
    "        break\n",
    "    \n",
    "\n",
    "print('\\n>> # Updates: {} \\n'.format(n_updates))    \n",
    "print(\">> Theta vectors optimal:\")\n",
    "print(th)"
   ]
  },
  {
   "cell_type": "markdown",
   "metadata": {},
   "source": [
    "_From the two iterations in a) and b), we realize that the v = theta vector is composed of each of the non-zero components (1s) of the feature vectors x_i, and thus forms a vector that is perpendicular to the plane that contains all 3 of them._"
   ]
  }
 ],
 "metadata": {
  "kernelspec": {
   "display_name": "Python 3",
   "language": "python",
   "name": "python3"
  },
  "language_info": {
   "codemirror_mode": {
    "name": "ipython",
    "version": 3
   },
   "file_extension": ".py",
   "mimetype": "text/x-python",
   "name": "python",
   "nbconvert_exporter": "python",
   "pygments_lexer": "ipython3",
   "version": "3.7.6"
  }
 },
 "nbformat": 4,
 "nbformat_minor": 4
}
