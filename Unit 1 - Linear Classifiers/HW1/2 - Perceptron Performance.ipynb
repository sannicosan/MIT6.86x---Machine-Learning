{
 "cells": [
  {
   "cell_type": "markdown",
   "metadata": {},
   "source": [
    "# Homework 1"
   ]
  },
  {
   "cell_type": "markdown",
   "metadata": {},
   "source": [
    "### Exercise 2: Perceptron Performance"
   ]
  },
  {
   "cell_type": "code",
   "execution_count": 1,
   "metadata": {},
   "outputs": [],
   "source": [
    "import numpy as np"
   ]
  },
  {
   "cell_type": "markdown",
   "metadata": {},
   "source": [
    "---\n",
    "#### 2a)"
   ]
  },
  {
   "cell_type": "code",
   "execution_count": 2,
   "metadata": {},
   "outputs": [],
   "source": [
    "# Training points \n",
    "x_1 = [-4,2]\n",
    "x_2 = [-2,1]\n",
    "x_3 = [-1,-1]\n",
    "x_4 = [2,2]\n",
    "x_5 = [1,-2]\n",
    "\n",
    "# Labels\n",
    "y_1 = 1\n",
    "y_2 = 1\n",
    "y_3 = -1\n",
    "y_4 = -1\n",
    "y_5 = -1"
   ]
  },
  {
   "cell_type": "code",
   "execution_count": 3,
   "metadata": {},
   "outputs": [],
   "source": [
    "# Setting everything as a vector\n",
    "x = np.array([x_1,x_2,x_3,x_4,x_5]).T\n",
    "\n",
    "y = np.array([[y_1],[y_2],[y_3],[y_4],[y_5]])"
   ]
  },
  {
   "cell_type": "code",
   "execution_count": 4,
   "metadata": {},
   "outputs": [
    {
     "name": "stdout",
     "output_type": "stream",
     "text": [
      "[[-4  2]] [1]\n",
      "[[-3  3]] [0]\n",
      "[[-5  1]] [-1]\n",
      "[[-4  2]] [-2]\n",
      "\n",
      ">> #Errors: 4 \n",
      "\n",
      ">> Theta vectors:\n",
      "[[-4  2]\n",
      " [-3  3]\n",
      " [-5  1]\n",
      " [-4  2]]\n"
     ]
    }
   ],
   "source": [
    "## Starting with x_1:\n",
    "\n",
    "n = max(x.shape)\n",
    "n_errors = 0\n",
    "th = np.array([[0,0]])\n",
    "th_0 = 0\n",
    "th_vec = th\n",
    "n_errors = [0,0,0,0,0]\n",
    "\n",
    "while(1):\n",
    "\n",
    "    for i in range(n):         \n",
    "        if y[i]*(np.dot(th,x[:,i])+th_0) <= 0:\n",
    "            th = th + y[i]*x[:,i]\n",
    "            th_0 = th_0 + y[i]\n",
    "            print(th,th_0)\n",
    "            n_errors[i] = n_errors[i] + 1\n",
    "            th_vec = np.append(th_vec,th,axis = 0)\n",
    "        \n",
    "    if(n_errors[0] == 1 and n_errors[1] == 0 and n_errors[2] == 2 and n_errors[3] == 1 ):\n",
    "        break\n",
    "    \n",
    "th_vec = th_vec[1:,:]\n",
    "    \n",
    "\n",
    "print('\\n>> #Errors: {} \\n'.format(len(th_vec)))       \n",
    "print(\">> Theta vectors:\")\n",
    "print(th_vec)"
   ]
  },
  {
   "cell_type": "markdown",
   "metadata": {},
   "source": [
    "---\n",
    "#### 2b)"
   ]
  },
  {
   "cell_type": "code",
   "execution_count": 5,
   "metadata": {},
   "outputs": [],
   "source": [
    "# Training points \n",
    "x_1 = [-4,2]\n",
    "x_2 = [-2,1]\n",
    "x_3 = [-1,-1]\n",
    "x_4 = [2,2]\n",
    "x_5 = [1,-2]\n",
    "\n",
    "# Labels\n",
    "y_1 = 1\n",
    "y_2 = 1\n",
    "y_3 = -1\n",
    "y_4 = -1\n",
    "y_5 = -1\n",
    "\n",
    "# Setting everything as a vector\n",
    "x = np.array([x_1,x_2,x_3,x_4,x_5]).T\n",
    "\n",
    "y = np.array([[y_1],[y_2],[y_3],[y_4],[y_5]])\n",
    "                                       \n",
    "                                       "
   ]
  },
  {
   "cell_type": "code",
   "execution_count": 17,
   "metadata": {},
   "outputs": [
    {
     "name": "stdout",
     "output_type": "stream",
     "text": [
      "\n",
      ">> #Errors: 0 \n",
      "\n",
      ">> Theta vectors optimal:\n",
      "[[-3  3]]\n",
      ">> Theta_0 vector optimal:\n",
      "-3\n"
     ]
    }
   ],
   "source": [
    "n = max(x.shape)\n",
    "n_errors = 0\n",
    "th = np.array([[-3,3]])\n",
    "th_0 = -3\n",
    "n_error_overall = 0\n",
    "\n",
    "while(1):\n",
    "\n",
    "    n_errors = 0\n",
    "    \n",
    "    for i in range(n):         \n",
    "        if y[i]*(np.dot(th,x[:,i])+th_0) <= 0:\n",
    "            th = th + y[i]*x[:,i]\n",
    "            th_0 = th_0 + y[i]\n",
    "            n_errors += 1\n",
    "            \n",
    "    n_error_overall += n_errors \n",
    "    \n",
    "    if(n_errors == 0):\n",
    "        break\n",
    "    \n",
    "\n",
    "print('\\n>> #Errors: {} \\n'.format(n_error_overall))    \n",
    "print(\">> Theta vectors optimal:\")\n",
    "print(th)\n",
    "print(\">> Theta_0 vector optimal:\")\n",
    "print(th_0)"
   ]
  },
  {
   "cell_type": "code",
   "execution_count": null,
   "metadata": {},
   "outputs": [],
   "source": []
  }
 ],
 "metadata": {
  "kernelspec": {
   "display_name": "Python 3",
   "language": "python",
   "name": "python3"
  },
  "language_info": {
   "codemirror_mode": {
    "name": "ipython",
    "version": 3
   },
   "file_extension": ".py",
   "mimetype": "text/x-python",
   "name": "python",
   "nbconvert_exporter": "python",
   "pygments_lexer": "ipython3",
   "version": "3.7.6"
  }
 },
 "nbformat": 4,
 "nbformat_minor": 4
}
